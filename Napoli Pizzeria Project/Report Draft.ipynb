{
 "cells": [
  {
   "cell_type": "markdown",
   "metadata": {},
   "source": [
    "# Opening a new pizzeria in Naples? Use Machine Learning to know where!"
   ]
  },
  {
   "cell_type": "markdown",
   "metadata": {},
   "source": [
    "## 1. Introduction"
   ]
  },
  {
   "cell_type": "markdown",
   "metadata": {},
   "source": [
    "### 1.1 Background"
   ]
  },
  {
   "cell_type": "markdown",
   "metadata": {},
   "source": [
    "One of the most popular meal in the world. Someone says that it comes from Turkey, others from Italy. Pizza has radically changed the world, in particular in Naples, the city considered as the birthplace of that disc of dough with tomato souce, mozarella and fresh basil. In the [Wikipedia Pizza page](https://en.wikipedia.org/wiki/Pizza) it can be found a fully description on the history, ingredients and way of cooking. Furthermore, many variants are present, like neapolitan or roman style.  \n",
    "In this project we want to give an overview of the different borough of Naples, and analyze the optimal place for opening a new pizzeria. We will see that same area of Napoli are full of pizzeria, and so a detailed analysis is needed. Furthermore, we will analyze insight from top pizzeria in Napoli, for example if they have public facebook, instagram page and so on. We all now that nowadays, the success of a venue is partially done to how much it is invested in marketing, and so sponsorizing what you do and your products is the key.\n"
   ]
  },
  {
   "cell_type": "markdown",
   "metadata": {},
   "source": [
    "<center><img src=\"https://i0.wp.com/www.napolimilionaria.it/wp-content/uploads/2020/01/ricetta-pizza-sorbillo-impasto-margherita-napoeltana.jpg\"></center>\n",
    "<center>Pizza margherita in its beautiness.</center>"
   ]
  },
  {
   "cell_type": "markdown",
   "metadata": {},
   "source": [
    "## 2. Data, resources and methodologies"
   ]
  },
  {
   "cell_type": "markdown",
   "metadata": {},
   "source": [
    "### 2.1 Data"
   ]
  },
  {
   "cell_type": "markdown",
   "metadata": {},
   "source": [
    "We will use different sources of data for getting all the information:\n",
    "- **geographical information**: boroughs will web-scraped from Wikipedia (link [here](https://it.wikipedia.org/wiki/Quartieri_di_Napoli)) and their coordinates using `geopy`;\n",
    "- **demographical information**: we will web-scraped number of residents per borough from Wikipedia (link [here](https://it.wikipedia.org/wiki/Municipalit%C3%A0_di_Napoli));\n",
    "- **borough boundaries**: zip file from the official website of Naples townhall will be downloaded, containing the data of borough's boundaries (link [here](http://www.comune.napoli.it/flex/cm/pages/ServeBLOB.php/L/IT/IDPagina/29771));  \n",
    "- **venues**: we will use Foursquare API (https://developer.foursquare.com/) for obtaining all venues in the city of Naples, and in particular pizzerias. We will use different APIs for getting venues and details (rating, social page, number of tips etc.);\n"
   ]
  },
  {
   "cell_type": "markdown",
   "metadata": {},
   "source": [
    "### 2.2 Resources"
   ]
  },
  {
   "cell_type": "markdown",
   "metadata": {},
   "source": [
    "Many resources will be used in order to web-scrape data, to download from website and to do data manipulation:\n",
    "- `pandas`: we will use pandas for scraping from wikipedia (since they are in tabular form, there is no needing to use specific web-scraping libraries);\n",
    "- `numpy`: useful for feature engineering (like one-hot encoding);\n",
    "- `sklearn`: best library for machine learning. In particular, we will use clustering algorithms in order to clusterize boroughs based on their similarity;\n",
    "- `folium`: one of the most used library for geoplotting. It allows high flexibility and customization."
   ]
  },
  {
   "cell_type": "markdown",
   "metadata": {},
   "source": [
    "### 2.3 Methodologies"
   ]
  },
  {
   "cell_type": "markdown",
   "metadata": {},
   "source": [
    "For detecting the best place where opening a new pizzeria, we will use k-means algorithm, that is a clustering distance-based method that will help to clusterize similar places.\n",
    "What we will do next is to analyze the top pizzeria to understand if there are some insight that we can embed."
   ]
  },
  {
   "cell_type": "code",
   "execution_count": null,
   "metadata": {},
   "outputs": [],
   "source": []
  }
 ],
 "metadata": {
  "kernelspec": {
   "display_name": "Python 3",
   "language": "python",
   "name": "python3"
  },
  "language_info": {
   "codemirror_mode": {
    "name": "ipython",
    "version": 3
   },
   "file_extension": ".py",
   "mimetype": "text/x-python",
   "name": "python",
   "nbconvert_exporter": "python",
   "pygments_lexer": "ipython3",
   "version": "3.7.6"
  }
 },
 "nbformat": 4,
 "nbformat_minor": 4
}
